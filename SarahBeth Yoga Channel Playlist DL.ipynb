{
 "cells": [
  {
   "cell_type": "markdown",
   "id": "746e9d23",
   "metadata": {},
   "source": [
    "# Download a Playlist of Videos\n",
    "\n",
    "To begin, a set of analysis will be done starting with the video from Sarah Beth's Yoga Channel on youtube. She has multiple playlist of her videos organized into different categories, one of them being length. Thus the analysis begins with the smallest runtime. The name of the playlist is [\"10 Minute Yoga Videos\"](https://www.youtube.com/playlist?list=PLP7Ou7uUiYzDHkY4ky13xpSY7N-zQ690C).\n",
    "\n",
    "To make the job easy, the [pytube](https://pytube.io/en/latest/index.html) python package is used."
   ]
  },
  {
   "cell_type": "code",
   "execution_count": 1,
   "id": "c6710205",
   "metadata": {},
   "outputs": [],
   "source": [
    "from pytube import Playlist, YouTube\n",
    "from  pprint import pprint"
   ]
  },
  {
   "cell_type": "code",
   "execution_count": 2,
   "id": "dfdd70ae",
   "metadata": {},
   "outputs": [
    {
     "name": "stdout",
     "output_type": "stream",
     "text": [
      "10 Minute Yoga Videos\n"
     ]
    }
   ],
   "source": [
    "ytp = Playlist('https://www.youtube.com/playlist?list=PLP7Ou7uUiYzDHkY4ky13xpSY7N-zQ690C')\n",
    "print(ytp.title)"
   ]
  },
  {
   "cell_type": "code",
   "execution_count": 6,
   "id": "bebb047e",
   "metadata": {},
   "outputs": [
    {
     "name": "stdout",
     "output_type": "stream",
     "text": [
      "Downloading '10 minute Yoga for Neck & Shoulder Tension Relief | Standing Yoga Flow' from the following stream:\n",
      "<Stream: itag=\"17\" mime_type=\"video/3gpp\" res=\"144p\" fps=\"12fps\" vcodec=\"mp4v.20.3\" acodec=\"mp4a.40.2\" progressive=\"True\" type=\"video\">\n",
      "Downloading '10 minute Yoga for Better Posture | Daily Yoga Stretch' from the following stream:\n",
      "<Stream: itag=\"17\" mime_type=\"video/3gpp\" res=\"144p\" fps=\"12fps\" vcodec=\"mp4v.20.3\" acodec=\"mp4a.40.2\" progressive=\"True\" type=\"video\">\n",
      "Downloading 'Yoga for Beginners NIGHT TIME | Slow Stretches for Sore Muscles' from the following stream:\n",
      "<Stream: itag=\"17\" mime_type=\"video/3gpp\" res=\"144p\" fps=\"8fps\" vcodec=\"mp4v.20.3\" acodec=\"mp4a.40.2\" progressive=\"True\" type=\"video\">\n",
      "Downloading 'Yoga for Beginners WORKOUT | Beginner Yoga for Strength & Toning' from the following stream:\n",
      "<Stream: itag=\"17\" mime_type=\"video/3gpp\" res=\"144p\" fps=\"8fps\" vcodec=\"mp4v.20.3\" acodec=\"mp4a.40.2\" progressive=\"True\" type=\"video\">\n",
      "Downloading 'Yoga for Beginners FLEXIBILITY | Simple Yoga Flow for Mobility' from the following stream:\n",
      "<Stream: itag=\"17\" mime_type=\"video/3gpp\" res=\"144p\" fps=\"8fps\" vcodec=\"mp4v.20.3\" acodec=\"mp4a.40.2\" progressive=\"True\" type=\"video\">\n",
      "Downloading 'Yoga for Beginners FULL BODY | Basic Yoga Stretches' from the following stream:\n",
      "<Stream: itag=\"17\" mime_type=\"video/3gpp\" res=\"144p\" fps=\"8fps\" vcodec=\"mp4v.20.3\" acodec=\"mp4a.40.2\" progressive=\"True\" type=\"video\">\n",
      "Downloading 'Yoga for Beginners MORNING | Simple Yoga Stretches to Wake Up' from the following stream:\n",
      "<Stream: itag=\"17\" mime_type=\"video/3gpp\" res=\"144p\" fps=\"8fps\" vcodec=\"mp4v.20.3\" acodec=\"mp4a.40.2\" progressive=\"True\" type=\"video\">\n",
      "Downloading 'Yoga for Beginners STRENGTH | Basic Core Strength Yoga Poses' from the following stream:\n",
      "<Stream: itag=\"17\" mime_type=\"video/3gpp\" res=\"144p\" fps=\"8fps\" vcodec=\"mp4v.20.3\" acodec=\"mp4a.40.2\" progressive=\"True\" type=\"video\">\n",
      "Downloading 'Yoga for Beginners STRETCH | Easy Yoga for Complete Beginners' from the following stream:\n",
      "<Stream: itag=\"17\" mime_type=\"video/3gpp\" res=\"144p\" fps=\"8fps\" vcodec=\"mp4v.20.3\" acodec=\"mp4a.40.2\" progressive=\"True\" type=\"video\">\n",
      "Downloading '10 minute Seated Yoga Stretch 💙 Unwind yoga after work | Sarah Beth Yoga' from the following stream:\n",
      "<Stream: itag=\"17\" mime_type=\"video/3gpp\" res=\"144p\" fps=\"8fps\" vcodec=\"mp4v.20.3\" acodec=\"mp4a.40.2\" progressive=\"True\" type=\"video\">\n",
      "Downloading '10 minute MOBILITY Yoga for Neck & Shoulder Relief | Sarah Beth Yoga' from the following stream:\n",
      "<Stream: itag=\"17\" mime_type=\"video/3gpp\" res=\"144p\" fps=\"8fps\" vcodec=\"mp4v.20.3\" acodec=\"mp4a.40.2\" progressive=\"True\" type=\"video\">\n",
      "Downloading '10 minute CALMING Yoga for Anger & Frustration' from the following stream:\n",
      "<Stream: itag=\"17\" mime_type=\"video/3gpp\" res=\"144p\" fps=\"12fps\" vcodec=\"mp4v.20.3\" acodec=\"mp4a.40.2\" progressive=\"True\" type=\"video\">\n",
      "Downloading '10 min Seated Morning Yoga Stretch for Stiff & Sore Muscles | Sarah Beth Yoga' from the following stream:\n",
      "<Stream: itag=\"17\" mime_type=\"video/3gpp\" res=\"144p\" fps=\"8fps\" vcodec=\"mp4v.20.3\" acodec=\"mp4a.40.2\" progressive=\"True\" type=\"video\">\n",
      "Downloading '10 minute Morning Yoga Stretch for Stiff & Sore Muscles | Sarah Beth Yoga' from the following stream:\n",
      "<Stream: itag=\"17\" mime_type=\"video/3gpp\" res=\"144p\" fps=\"8fps\" vcodec=\"mp4v.20.3\" acodec=\"mp4a.40.2\" progressive=\"True\" type=\"video\">\n",
      "Downloading '10 minute Morning Yoga Stretch to WAKE UP' from the following stream:\n",
      "<Stream: itag=\"17\" mime_type=\"video/3gpp\" res=\"144p\" fps=\"7fps\" vcodec=\"mp4v.20.3\" acodec=\"mp4a.40.2\" progressive=\"True\" type=\"video\">\n",
      "Downloading '10 minute Postnatal Yoga for Diastasis Recti: Exercises to Close the Gap | Sarah Beth Yoga' from the following stream:\n",
      "<Stream: itag=\"17\" mime_type=\"video/3gpp\" res=\"144p\" fps=\"7fps\" vcodec=\"mp4v.20.3\" acodec=\"mp4a.40.2\" progressive=\"True\" type=\"video\">\n",
      "Downloading '10 minute Postnatal Yoga for Posture, Core, Pelvic Floor & Diastasis Recti' from the following stream:\n",
      "<Stream: itag=\"17\" mime_type=\"video/3gpp\" res=\"144p\" fps=\"7fps\" vcodec=\"mp4v.20.3\" acodec=\"mp4a.40.2\" progressive=\"True\" type=\"video\">\n",
      "Downloading '10 minute Energizing Morning Yoga for Beginners | Full Body Yoga Flow' from the following stream:\n",
      "<Stream: itag=\"17\" mime_type=\"video/3gpp\" res=\"144p\" fps=\"12fps\" vcodec=\"mp4v.20.3\" acodec=\"mp4a.40.2\" progressive=\"True\" type=\"video\">\n",
      "Downloading '10 minute Power Yoga Workout 🔥 EVOLVE your Chaturanga, Arms & Abs | Sarah Beth Yoga' from the following stream:\n",
      "<Stream: itag=\"17\" mime_type=\"video/3gpp\" res=\"144p\" fps=\"7fps\" vcodec=\"mp4v.20.3\" acodec=\"mp4a.40.2\" progressive=\"True\" type=\"video\">\n",
      "Downloading '10 minute Uplifting Yoga Flow 💙 MOVE with Intention | Sarah Beth Yoga' from the following stream:\n",
      "<Stream: itag=\"17\" mime_type=\"video/3gpp\" res=\"144p\" fps=\"7fps\" vcodec=\"mp4v.20.3\" acodec=\"mp4a.40.2\" progressive=\"True\" type=\"video\">\n",
      "Downloading '10 minute Bedtime Yoga Stretch for Upper Body, Neck & Shoulders | Sarah Beth Yoga' from the following stream:\n",
      "<Stream: itag=\"17\" mime_type=\"video/3gpp\" res=\"144p\" fps=\"7fps\" vcodec=\"mp4v.20.3\" acodec=\"mp4a.40.2\" progressive=\"True\" type=\"video\">\n",
      "Downloading '10 minute Hands Free Standing Yoga Stretches | Sarah Beth Yoga' from the following stream:\n",
      "<Stream: itag=\"17\" mime_type=\"video/3gpp\" res=\"144p\" fps=\"12fps\" vcodec=\"mp4v.20.3\" acodec=\"mp4a.40.2\" progressive=\"True\" type=\"video\">\n",
      "Downloading '10 min Morning Yoga Stretch ☀️ SUNRISE YOGA | Sarah Beth Yoga' from the following stream:\n",
      "<Stream: itag=\"17\" mime_type=\"video/3gpp\" res=\"144p\" fps=\"12fps\" vcodec=\"mp4v.20.3\" acodec=\"mp4a.40.2\" progressive=\"True\" type=\"video\">\n",
      "Downloading 'Stressed? CHILL OUT with this 10 minute Yoga Stretch  🙏🏽 \"Zen in Ten\" |  Sarah Beth Yoga' from the following stream:\n",
      "<Stream: itag=\"17\" mime_type=\"video/3gpp\" res=\"144p\" fps=\"12fps\" vcodec=\"mp4v.20.3\" acodec=\"mp4a.40.2\" progressive=\"True\" type=\"video\">\n",
      "Downloading '10 minute Killer Core Yoga Workout | Sarah Beth Yoga' from the following stream:\n",
      "<Stream: itag=\"17\" mime_type=\"video/3gpp\" res=\"144p\" fps=\"12fps\" vcodec=\"mp4v.20.3\" acodec=\"mp4a.40.2\" progressive=\"True\" type=\"video\">\n",
      "Downloading '10 minute Morning Yoga Perk up for Posture | Sarah Beth Yoga' from the following stream:\n",
      "<Stream: itag=\"17\" mime_type=\"video/3gpp\" res=\"144p\" fps=\"12fps\" vcodec=\"mp4v.20.3\" acodec=\"mp4a.40.2\" progressive=\"True\" type=\"video\">\n",
      "Downloading '10 min Full Body Power Yoga Workout | Tone Yoga Flow  | Sarah Beth Yoga' from the following stream:\n",
      "<Stream: itag=\"17\" mime_type=\"video/3gpp\" res=\"144p\" fps=\"12fps\" vcodec=\"mp4v.20.3\" acodec=\"mp4a.40.2\" progressive=\"True\" type=\"video\">\n",
      "Downloading '10 minute Yoga Stretches for Wrists, Chest, Shoulders | Sarah Beth Yoga' from the following stream:\n",
      "<Stream: itag=\"17\" mime_type=\"video/3gpp\" res=\"144p\" fps=\"12fps\" vcodec=\"mp4v.20.3\" acodec=\"mp4a.40.2\" progressive=\"True\" type=\"video\">\n",
      "Downloading '10 minute Power Morning Yoga for Weight Loss & TONING |  Sarah Beth Yoga' from the following stream:\n",
      "<Stream: itag=\"17\" mime_type=\"video/3gpp\" res=\"144p\" fps=\"12fps\" vcodec=\"mp4v.20.3\" acodec=\"mp4a.40.2\" progressive=\"True\" type=\"video\">\n",
      "Downloading '10 minute Yoga for Relaxation 💙 Savasana Yoga Meditation | Sarah Beth Yoga' from the following stream:\n",
      "<Stream: itag=\"17\" mime_type=\"video/3gpp\" res=\"144p\" fps=\"12fps\" vcodec=\"mp4v.20.3\" acodec=\"mp4a.40.2\" progressive=\"True\" type=\"video\">\n",
      "Downloading '10 minute Bedtime Yoga for Stress & Anxiety | Sarah Beth Yoga' from the following stream:\n",
      "<Stream: itag=\"17\" mime_type=\"video/3gpp\" res=\"144p\" fps=\"12fps\" vcodec=\"mp4v.20.3\" acodec=\"mp4a.40.2\" progressive=\"True\" type=\"video\">\n",
      "Downloading '10 minute Power Flow Yoga for Strength & Balance | Sarah Beth Yoga' from the following stream:\n",
      "<Stream: itag=\"17\" mime_type=\"video/3gpp\" res=\"144p\" fps=\"12fps\" vcodec=\"mp4v.20.3\" acodec=\"mp4a.40.2\" progressive=\"True\" type=\"video\">\n",
      "Downloading '10 minute Relaxing Stretch Yoga for Bedtime | Sarah Beth Yoga' from the following stream:\n",
      "<Stream: itag=\"17\" mime_type=\"video/3gpp\" res=\"144p\" fps=\"12fps\" vcodec=\"mp4v.20.3\" acodec=\"mp4a.40.2\" progressive=\"True\" type=\"video\">\n",
      "Downloading '10 minute Lazy Yoga Stretches | Sarah Beth Yoga' from the following stream:\n",
      "<Stream: itag=\"17\" mime_type=\"video/3gpp\" res=\"144p\" fps=\"12fps\" vcodec=\"mp4v.20.3\" acodec=\"mp4a.40.2\" progressive=\"True\" type=\"video\">\n"
     ]
    },
    {
     "name": "stdout",
     "output_type": "stream",
     "text": [
      "Downloading '10 minute Morning Yoga for Beginners 🙏🏽 Peace Flow | Sarah Beth Yoga' from the following stream:\n",
      "<Stream: itag=\"17\" mime_type=\"video/3gpp\" res=\"144p\" fps=\"12fps\" vcodec=\"mp4v.20.3\" acodec=\"mp4a.40.2\" progressive=\"True\" type=\"video\">\n",
      "Downloading '10 minute Power Yoga Workout 🔥 Quick Arms & Abs | Sarah Beth Yoga' from the following stream:\n",
      "<Stream: itag=\"17\" mime_type=\"video/3gpp\" res=\"144p\" fps=\"12fps\" vcodec=\"mp4v.20.3\" acodec=\"mp4a.40.2\" progressive=\"True\" type=\"video\">\n",
      "Downloading '10 minute Power Yoga Workout 🔥 Quick Abs & Core | Sarah Beth Yoga' from the following stream:\n",
      "<Stream: itag=\"17\" mime_type=\"video/3gpp\" res=\"144p\" fps=\"12fps\" vcodec=\"mp4v.20.3\" acodec=\"mp4a.40.2\" progressive=\"True\" type=\"video\">\n",
      "Downloading '10 minute Pre Workout Yoga Warm Up | Sarah Beth Yoga' from the following stream:\n",
      "<Stream: itag=\"17\" mime_type=\"video/3gpp\" res=\"144p\" fps=\"12fps\" vcodec=\"mp4v.20.3\" acodec=\"mp4a.40.2\" progressive=\"True\" type=\"video\">\n",
      "Downloading '10 minute Post Workout Yoga Cool Down Lower Body | Sarah Beth Yoga' from the following stream:\n",
      "<Stream: itag=\"17\" mime_type=\"video/3gpp\" res=\"144p\" fps=\"12fps\" vcodec=\"mp4v.20.3\" acodec=\"mp4a.40.2\" progressive=\"True\" type=\"video\">\n",
      "Downloading 'PRENATAL YOGA for Beginners (10 minute Yoga) Safe for ALL Trimesters | Sarah Beth Yoga' from the following stream:\n",
      "<Stream: itag=\"17\" mime_type=\"video/3gpp\" res=\"144p\" fps=\"8fps\" vcodec=\"mp4v.20.3\" acodec=\"mp4a.40.2\" progressive=\"True\" type=\"video\">\n",
      "Downloading '10 minute Bedtime Yoga IN BED | Relaxing Bedtime Yoga Routine' from the following stream:\n",
      "<Stream: itag=\"17\" mime_type=\"video/3gpp\" res=\"144p\" fps=\"7fps\" vcodec=\"mp4v.20.3\" acodec=\"mp4a.40.2\" progressive=\"True\" type=\"video\">\n",
      "Downloading '10 minute Simple Slow Stretch Yoga Routine | Sarah Beth Yoga' from the following stream:\n",
      "<Stream: itag=\"17\" mime_type=\"video/3gpp\" res=\"144p\" fps=\"12fps\" vcodec=\"mp4v.20.3\" acodec=\"mp4a.40.2\" progressive=\"True\" type=\"video\">\n",
      "Downloading '10 minute Core Yoga Workout | Sarah Beth Yoga' from the following stream:\n",
      "<Stream: itag=\"17\" mime_type=\"video/3gpp\" res=\"144p\" fps=\"12fps\" vcodec=\"mp4v.20.3\" acodec=\"mp4a.40.2\" progressive=\"True\" type=\"video\">\n",
      "Downloading '10 minute Simple Morning Full Body Flow Yoga for Beginners | Sarah Beth Yoga' from the following stream:\n",
      "<Stream: itag=\"17\" mime_type=\"video/3gpp\" res=\"144p\" fps=\"12fps\" vcodec=\"mp4v.20.3\" acodec=\"mp4a.40.2\" progressive=\"True\" type=\"video\">\n",
      "Downloading '10 minute Simple Yoga Flow for All Levels | Sarah Beth Yoga' from the following stream:\n",
      "<Stream: itag=\"17\" mime_type=\"video/3gpp\" res=\"144p\" fps=\"12fps\" vcodec=\"mp4v.20.3\" acodec=\"mp4a.40.2\" progressive=\"True\" type=\"video\">\n",
      "Downloading '10 minute Beginner Yoga Stretch for Neck & Shoulder Relief | Yoga for Beginners' from the following stream:\n",
      "<Stream: itag=\"17\" mime_type=\"video/3gpp\" res=\"144p\" fps=\"8fps\" vcodec=\"mp4v.20.3\" acodec=\"mp4a.40.2\" progressive=\"True\" type=\"video\">\n",
      "Downloading '10 minute Morning Yoga for Beginners' from the following stream:\n",
      "<Stream: itag=\"17\" mime_type=\"video/3gpp\" res=\"144p\" fps=\"8fps\" vcodec=\"mp4v.20.3\" acodec=\"mp4a.40.2\" progressive=\"True\" type=\"video\">\n",
      "Downloading '10 minute Yoga for Posture (All Levels) | Sarah Beth Yoga' from the following stream:\n",
      "<Stream: itag=\"17\" mime_type=\"video/3gpp\" res=\"144p\" fps=\"10fps\" vcodec=\"mp4v.20.3\" acodec=\"mp4a.40.2\" progressive=\"True\" type=\"video\">\n",
      "Downloading '10 minute Postnatal Yoga Workout for Core & Diastasis Recti' from the following stream:\n",
      "<Stream: itag=\"17\" mime_type=\"video/3gpp\" res=\"144p\" fps=\"7fps\" vcodec=\"mp4v.20.3\" acodec=\"mp4a.40.2\" progressive=\"True\" type=\"video\">\n",
      "Downloading '10 minute Morning Yoga Free Flow (All Levels) | Sarah Beth Yoga' from the following stream:\n",
      "<Stream: itag=\"17\" mime_type=\"video/3gpp\" res=\"144p\" fps=\"7fps\" vcodec=\"mp4v.20.3\" acodec=\"mp4a.40.2\" progressive=\"True\" type=\"video\">\n",
      "Downloading '10 minute Yoga for SCIATICA and Low Back Pain 💙 UP THE WALL | Sarah Beth Yoga' from the following stream:\n",
      "<Stream: itag=\"17\" mime_type=\"video/3gpp\" res=\"144p\" fps=\"10fps\" vcodec=\"mp4v.20.3\" acodec=\"mp4a.40.2\" progressive=\"True\" type=\"video\">\n",
      "Downloading '10 minute Gentle Yoga Stretches for Sore Wrists | Sarah Beth Yoga' from the following stream:\n",
      "<Stream: itag=\"17\" mime_type=\"video/3gpp\" res=\"144p\" fps=\"10fps\" vcodec=\"mp4v.20.3\" acodec=\"mp4a.40.2\" progressive=\"True\" type=\"video\">\n",
      "Downloading '10 minute PRE WORKOUT Yoga Warm Up | Sarah Beth Yoga' from the following stream:\n",
      "<Stream: itag=\"17\" mime_type=\"video/3gpp\" res=\"144p\" fps=\"10fps\" vcodec=\"mp4v.20.3\" acodec=\"mp4a.40.2\" progressive=\"True\" type=\"video\">\n",
      "Downloading '10 minute Power Yoga Workout for Back | Sarah Beth Yoga' from the following stream:\n",
      "<Stream: itag=\"17\" mime_type=\"video/3gpp\" res=\"144p\" fps=\"10fps\" vcodec=\"mp4v.20.3\" acodec=\"mp4a.40.2\" progressive=\"True\" type=\"video\">\n",
      "Downloading '10 minute Power Yoga Workout for Legs | Sarah Beth Yoga' from the following stream:\n",
      "<Stream: itag=\"17\" mime_type=\"video/3gpp\" res=\"144p\" fps=\"10fps\" vcodec=\"mp4v.20.3\" acodec=\"mp4a.40.2\" progressive=\"True\" type=\"video\">\n",
      "Downloading '10 minute Power Yoga Workout for Abs | Sarah Beth Yoga' from the following stream:\n",
      "<Stream: itag=\"17\" mime_type=\"video/3gpp\" res=\"144p\" fps=\"10fps\" vcodec=\"mp4v.20.3\" acodec=\"mp4a.40.2\" progressive=\"True\" type=\"video\">\n",
      "Downloading 'Yoga for Bloating, Digestion, Ulcerative Colitis, IBD & IBS' from the following stream:\n",
      "<Stream: itag=\"17\" mime_type=\"video/3gpp\" res=\"144p\" fps=\"7fps\" vcodec=\"mp4v.20.3\" acodec=\"mp4a.40.2\" progressive=\"True\" type=\"video\">\n",
      "Downloading '10 minute Flexibility Yoga for Posture, Back Bends, Shoulders & Hip Flexors' from the following stream:\n",
      "<Stream: itag=\"17\" mime_type=\"video/3gpp\" res=\"144p\" fps=\"7fps\" vcodec=\"mp4v.20.3\" acodec=\"mp4a.40.2\" progressive=\"True\" type=\"video\">\n",
      "Downloading '10 minute Restorative Yoga with a Bolster for Relaxation' from the following stream:\n",
      "<Stream: itag=\"17\" mime_type=\"video/3gpp\" res=\"144p\" fps=\"10fps\" vcodec=\"mp4v.20.3\" acodec=\"mp4a.40.2\" progressive=\"True\" type=\"video\">\n",
      "Downloading '10 minute UP THE WALL Restorative Yoga | SarahBethYoga' from the following stream:\n",
      "<Stream: itag=\"17\" mime_type=\"video/3gpp\" res=\"144p\" fps=\"7fps\" vcodec=\"mp4v.20.3\" acodec=\"mp4a.40.2\" progressive=\"True\" type=\"video\">\n",
      "Downloading '10 minute Basic Yoga Cool Down | Post Workout Yoga with Sarah Beth Yoga' from the following stream:\n",
      "<Stream: itag=\"17\" mime_type=\"video/3gpp\" res=\"144p\" fps=\"7fps\" vcodec=\"mp4v.20.3\" acodec=\"mp4a.40.2\" progressive=\"True\" type=\"video\">\n",
      "Downloading 'Basic Yoga Warm Up | Pre Workout Yoga, Yoga for Beginners, & Free Flow!' from the following stream:\n",
      "<Stream: itag=\"17\" mime_type=\"video/3gpp\" res=\"144p\" fps=\"10fps\" vcodec=\"mp4v.20.3\" acodec=\"mp4a.40.2\" progressive=\"True\" type=\"video\">\n",
      "Downloading '10 minute Power Yoga Workout for Abs | Beach Bod Abs' from the following stream:\n",
      "<Stream: itag=\"17\" mime_type=\"video/3gpp\" res=\"144p\" fps=\"10fps\" vcodec=\"mp4v.20.3\" acodec=\"mp4a.40.2\" progressive=\"True\" type=\"video\">\n",
      "Downloading '10 minute Yoga for Neck & Shoulder Tension | Sarah Beth Yoga' from the following stream:\n",
      "<Stream: itag=\"17\" mime_type=\"video/3gpp\" res=\"144p\" fps=\"7fps\" vcodec=\"mp4v.20.3\" acodec=\"mp4a.40.2\" progressive=\"True\" type=\"video\">\n",
      "Downloading '10 minute Yoga For Excellent Posture' from the following stream:\n",
      "<Stream: itag=\"17\" mime_type=\"video/3gpp\" res=\"144p\" fps=\"12fps\" vcodec=\"mp4v.20.3\" acodec=\"mp4a.40.2\" progressive=\"True\" type=\"video\">\n",
      "Downloading '10 minute Yoga for Beginners | Gentle Hip Opening Yoga' from the following stream:\n",
      "<Stream: itag=\"17\" mime_type=\"video/3gpp\" res=\"144p\" fps=\"12fps\" vcodec=\"mp4v.20.3\" acodec=\"mp4a.40.2\" progressive=\"True\" type=\"video\">\n"
     ]
    }
   ],
   "source": [
    "for video in ytp.videos:\n",
    "    title = video.title\n",
    "    download_stream = video.streams.filter(res='144p').first()\n",
    "    print(f\"Downloading '{title}' from the following stream:\\n{download_stream}\")\n",
    "    download_stream.download('./videos')"
   ]
  },
  {
   "cell_type": "code",
   "execution_count": null,
   "id": "7f4fcaab",
   "metadata": {},
   "outputs": [],
   "source": []
  }
 ],
 "metadata": {
  "kernelspec": {
   "display_name": "Python 3",
   "language": "python",
   "name": "python3"
  },
  "language_info": {
   "codemirror_mode": {
    "name": "ipython",
    "version": 3
   },
   "file_extension": ".py",
   "mimetype": "text/x-python",
   "name": "python",
   "nbconvert_exporter": "python",
   "pygments_lexer": "ipython3",
   "version": "3.8.10"
  }
 },
 "nbformat": 4,
 "nbformat_minor": 5
}
